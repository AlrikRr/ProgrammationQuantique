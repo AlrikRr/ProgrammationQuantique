{
 "cells": [
  {
   "cell_type": "code",
   "execution_count": 1,
   "metadata": {},
   "outputs": [],
   "source": [
    "### --- Algorithme de Grover --- ###"
   ]
  },
  {
   "cell_type": "code",
   "execution_count": 3,
   "metadata": {},
   "outputs": [],
   "source": [
    "### --- Librairies --- ###\n",
    "import numpy as np\n",
    "import matplotlib.pyplot as plt\n",
    "# Import acces Ordi Quantique IBM & Simulateur Aer\n",
    "from qiskit import IBMQ, BasicAer\n",
    "# Récupère les ordi IBM les plus disponibles\n",
    "from qiskit.providers.ibmq import least_busy\n",
    "# Importation des circuits quantiques, registre de byte classique & quantique, execution des calcs\n",
    "from qiskit import QuantumCircuit, ClassicalRegister, QuantumRegister, execute\n",
    "# Outils visualisation qiskit\n",
    "from qiskit.tools.visualization import plot_histogram"
   ]
  },
  {
   "cell_type": "code",
   "execution_count": 4,
   "metadata": {},
   "outputs": [],
   "source": [
    "### --- main code --- ###"
   ]
  },
  {
   "cell_type": "code",
   "execution_count": 5,
   "metadata": {},
   "outputs": [],
   "source": [
    "# Fonction d'inversion d'amplitude (Phase)\n",
    "def phase_oracle(circuit,register):\n",
    "    circuit.cz(qr[2],qr[0]) # 101 en états de qbits\n",
    "    circuit.cz(qr[2],qr[1]) # 110 en états de qbits"
   ]
  },
  {
   "cell_type": "code",
   "execution_count": 7,
   "metadata": {},
   "outputs": [],
   "source": [
    " ## Fonction d'inversion d'amplitude sur N qbits\n",
    "def n_controlled_Z(circuit, controls, target):\n",
    "    if len(controls) > 2:\n",
    "        pass # On ne gère pas les controleurs supérieurs à 2\n",
    "    elif len(controls) == 1:\n",
    "        circuit.h(target) # Mise en superposition des qbits\n",
    "        circuit.cx(controls[0], target) # Intrication bits control 0 et target\n",
    "        circuit.h(target) # Deuxième porte hadamard\n",
    "    elif len(controls) == 2:\n",
    "        circuit.h(target) # Mise en superposition des qbits\n",
    "        circuit.ccx(controls[0], controls[1], target) # Triple Intrication bits control 0,1 et target\n",
    "        circuit.h(target) # Deuxième porte hadamard"
   ]
  },
  {
   "cell_type": "code",
   "execution_count": 31,
   "metadata": {},
   "outputs": [],
   "source": [
    "# Fonctions inversion d'amplitude (Rotation symétrie(horizon,moyenne amplitude) par rapport à des axes)\n",
    "def inversion_average(circuit, register, n, barriers):\n",
    "    circuit.h(register)\n",
    "    circuit.x(register) # Porte de rotation (dans la sphere de block) pour la symétrie\n",
    "    if barriers: # Pour faire beau\n",
    "        circuit.barrier()\n",
    "    \n",
    "    n_controlled_Z(circuit,[register[j] for j in range(n-1)], register[n-1])\n",
    "    if barriers:     \n",
    "        circuit.barrier()\n",
    "    \n",
    "    circuit.x(register)\n",
    "    circuit.h(register)"
   ]
  },
  {
   "cell_type": "code",
   "execution_count": 32,
   "metadata": {},
   "outputs": [],
   "source": [
    "# Les barriers , pour faire beau sur les circuits\n",
    "barriers=True"
   ]
  },
  {
   "cell_type": "code",
   "execution_count": 33,
   "metadata": {},
   "outputs": [],
   "source": [
    "# Test de Grover\n",
    "qr = QuantumRegister(3) # Création d'un circuit avec 3 qbits\n",
    "cr = ClassicalRegister(3) # Création de 3 bits pour les mesures"
   ]
  },
  {
   "cell_type": "code",
   "execution_count": 34,
   "metadata": {},
   "outputs": [
    {
     "data": {
      "text/plain": [
       "<qiskit.circuit.instructionset.InstructionSet at 0x1f847cf7220>"
      ]
     },
     "execution_count": 34,
     "metadata": {},
     "output_type": "execute_result"
    }
   ],
   "source": [
    "# Création du circuit de Grover\n",
    "groverCircuit = QuantumCircuit(qr,cr) # Creation avec Register Quantique et Classic\n",
    "groverCircuit.h(qr) # Mise en superposition de tous les qbits"
   ]
  },
  {
   "cell_type": "code",
   "execution_count": 35,
   "metadata": {},
   "outputs": [],
   "source": [
    "# Affichage visuel des barrier\n",
    "if barriers:\n",
    "    groverCircuit.barrier()"
   ]
  },
  {
   "cell_type": "code",
   "execution_count": 36,
   "metadata": {},
   "outputs": [],
   "source": [
    "# Phase d'oracle : inversion de l'amplitude (multiplication par -1)\n",
    "phase_oracle(groverCircuit, qr)\n",
    "# Un peu de barriers\n",
    "if barriers:\n",
    "    groverCircuit.barrier()"
   ]
  },
  {
   "cell_type": "code",
   "execution_count": 37,
   "metadata": {},
   "outputs": [],
   "source": [
    "# La magie de Grover !\n",
    "# Symétrie par rappport à la moyenne des amplitudes N qbits\n",
    "inversion_average(groverCircuit, qr, 3, barriers) # N = 3 ici \n",
    "# Encore plus de barriers\n",
    "if barriers:\n",
    "    groverCircuit.barrier()"
   ]
  },
  {
   "cell_type": "code",
   "execution_count": 38,
   "metadata": {},
   "outputs": [
    {
     "data": {
      "text/plain": [
       "<qiskit.circuit.instructionset.InstructionSet at 0x1f87fd9f100>"
      ]
     },
     "execution_count": 38,
     "metadata": {},
     "output_type": "execute_result"
    }
   ],
   "source": [
    "# Mesure du circuit de Grover pour avoir un résultat \n",
    "groverCircuit.measure(qr,cr) "
   ]
  },
  {
   "cell_type": "code",
   "execution_count": 39,
   "metadata": {},
   "outputs": [
    {
     "data": {
      "text/html": [
       "<pre style=\"word-wrap: normal;white-space: pre;background: #fff0;line-height: 1.1;font-family: &quot;Courier New&quot;,Courier,monospace\">       ┌───┐ ░        ░ ┌───┐┌───┐ ░                 ░ ┌───┐┌───┐ ░ ┌─┐      \n",
       "q13_0: ┤ H ├─░──■─────░─┤ H ├┤ X ├─░────────■────────░─┤ X ├┤ H ├─░─┤M├──────\n",
       "       ├───┤ ░  │     ░ ├───┤├───┤ ░        │        ░ ├───┤├───┤ ░ └╥┘┌─┐   \n",
       "q13_1: ┤ H ├─░──┼──■──░─┤ H ├┤ X ├─░────────■────────░─┤ X ├┤ H ├─░──╫─┤M├───\n",
       "       ├───┤ ░  │  │  ░ ├───┤├───┤ ░ ┌───┐┌─┴─┐┌───┐ ░ ├───┤├───┤ ░  ║ └╥┘┌─┐\n",
       "q13_2: ┤ H ├─░──■──■──░─┤ H ├┤ X ├─░─┤ H ├┤ X ├┤ H ├─░─┤ X ├┤ H ├─░──╫──╫─┤M├\n",
       "       └───┘ ░        ░ └───┘└───┘ ░ └───┘└───┘└───┘ ░ └───┘└───┘ ░  ║  ║ └╥┘\n",
       " c1: 3/══════════════════════════════════════════════════════════════╩══╩══╩═\n",
       "                                                                     0  1  2 </pre>"
      ],
      "text/plain": [
       "       ┌───┐ ░        ░ ┌───┐┌───┐ ░                 ░ ┌───┐┌───┐ ░ ┌─┐      \n",
       "q13_0: ┤ H ├─░──■─────░─┤ H ├┤ X ├─░────────■────────░─┤ X ├┤ H ├─░─┤M├──────\n",
       "       ├───┤ ░  │     ░ ├───┤├───┤ ░        │        ░ ├───┤├───┤ ░ └╥┘┌─┐   \n",
       "q13_1: ┤ H ├─░──┼──■──░─┤ H ├┤ X ├─░────────■────────░─┤ X ├┤ H ├─░──╫─┤M├───\n",
       "       ├───┤ ░  │  │  ░ ├───┤├───┤ ░ ┌───┐┌─┴─┐┌───┐ ░ ├───┤├───┤ ░  ║ └╥┘┌─┐\n",
       "q13_2: ┤ H ├─░──■──■──░─┤ H ├┤ X ├─░─┤ H ├┤ X ├┤ H ├─░─┤ X ├┤ H ├─░──╫──╫─┤M├\n",
       "       └───┘ ░        ░ └───┘└───┘ ░ └───┘└───┘└───┘ ░ └───┘└───┘ ░  ║  ║ └╥┘\n",
       " c1: 3/══════════════════════════════════════════════════════════════╩══╩══╩═\n",
       "                                                                     0  1  2 "
      ]
     },
     "execution_count": 39,
     "metadata": {},
     "output_type": "execute_result"
    }
   ],
   "source": [
    "# On dessine le circuit\n",
    "groverCircuit.draw()"
   ]
  },
  {
   "cell_type": "code",
   "execution_count": 40,
   "metadata": {},
   "outputs": [
    {
     "data": {
      "image/png": "[encoded data removed]",
      "text/plain": [
       "<Figure size 1196.59x264.88 with 1 Axes>"
      ]
     },
     "execution_count": 40,
     "metadata": {},
     "output_type": "execute_result"
    }
   ],
   "source": [
    "# Encore plus beau pour l'affichage\n",
    "groverCircuit.draw(output=\"mpl\")"
   ]
  },
  {
   "cell_type": "code",
   "execution_count": 41,
   "metadata": {},
   "outputs": [],
   "source": [
    "# Le curcuit est terminé, maintenant on lance le calcule de Grover\n",
    "# Simulateur car IBMQ trop d'attente\n",
    "qasm_sim = BasicAer.get_backend('qasm_simulator')"
   ]
  },
  {
   "cell_type": "code",
   "execution_count": 42,
   "metadata": {},
   "outputs": [],
   "source": [
    "# On lance le calcule plusieurs fois\n",
    "shots = 2048\n",
    "results = execute(groverCircuit, backend=qasm_sim, shots=shots).result()"
   ]
  },
  {
   "cell_type": "code",
   "execution_count": 43,
   "metadata": {},
   "outputs": [],
   "source": [
    "# On récupère les resultats\n",
    "answer = results.get_counts()"
   ]
  },
  {
   "cell_type": "code",
   "execution_count": 44,
   "metadata": {},
   "outputs": [
    {
     "data": {
      "image/png": "[encoded data removed]",
      "text/plain": [
       "<Figure size 504x360 with 1 Axes>"
      ]
     },
     "execution_count": 44,
     "metadata": {},
     "output_type": "execute_result"
    }
   ],
   "source": [
    "# Affichage du résultat\n",
    "plot_histogram(answer)"
   ]
  },
  {
   "cell_type": "code",
   "execution_count": 45,
   "metadata": {},
   "outputs": [],
   "source": [
    "# Remarque on obtient deux résultats possible 101 et 110\n",
    "# On n'obtient pas 000 111 011 100 001 etc ..\n",
    "# Car le 3ème qbit et utilisé pour superposer les deux autres"
   ]
  },
  {
   "cell_type": "code",
   "execution_count": 47,
   "metadata": {},
   "outputs": [
    {
     "name": "stderr",
     "output_type": "stream",
     "text": [
      "ibmqfactory.load_account:WARNING:2021-05-07 10:04:36,206: Credentials are already in use. The existing account in the session will be replaced.\n"
     ]
    },
    {
     "data": {
      "text/plain": [
       "<AccountProvider for IBMQ(hub='ibm-q', group='open', project='main')>"
      ]
     },
     "execution_count": 47,
     "metadata": {},
     "output_type": "execute_result"
    }
   ],
   "source": [
    "#### ---- Tentative avec un IBMQ ---- ####\n",
    "# Connexion avec le token (si pas token --> IBMQ.save_account(token))\n",
    "IBMQ.load_account()"
   ]
  },
  {
   "cell_type": "code",
   "execution_count": 48,
   "metadata": {},
   "outputs": [],
   "source": [
    "# On se branche sur les providers\n",
    "provider = IBMQ.get_provider(hub='ibm-q') # Le Hub est donné pendant la connexion juste avant en output"
   ]
  },
  {
   "cell_type": "code",
   "execution_count": 66,
   "metadata": {},
   "outputs": [
    {
     "name": "stdout",
     "output_type": "stream",
     "text": [
      "ibmq_quito\n"
     ]
    }
   ],
   "source": [
    "# On va utiliser l'ordi le plus libre et qui n'est pas un simulateur et qui a plus de 3 qbits\n",
    "backend = least_busy(provider.backends(filters=lambda x: x.configuration().n_qubits > 3 and not x.configuration().simulator and x.status().operational==True))\n",
    "print(backend)"
   ]
  },
  {
   "cell_type": "code",
   "execution_count": 67,
   "metadata": {},
   "outputs": [],
   "source": [
    "# On lance le calcul de Grover sur armonk\n",
    "from qiskit.tools.monitor import job_monitor"
   ]
  },
  {
   "cell_type": "code",
   "execution_count": 68,
   "metadata": {},
   "outputs": [
    {
     "name": "stdout",
     "output_type": "stream",
     "text": [
      "Job Status: job has successfully run\n"
     ]
    }
   ],
   "source": [
    "shots = 2048\n",
    "job = execute(groverCircuit, backend=backend, shots=shots)\n",
    "job_monitor(job, interval=2)"
   ]
  },
  {
   "cell_type": "code",
   "execution_count": 69,
   "metadata": {},
   "outputs": [
    {
     "data": {
      "image/png": "[encoded data removed]",
      "text/plain": [
       "<Figure size 504x360 with 1 Axes>"
      ]
     },
     "execution_count": 69,
     "metadata": {},
     "output_type": "execute_result"
    }
   ],
   "source": [
    "# On récupère les résultats\n",
    "results = job.result()\n",
    "res = results.get_counts(groverCircuit)\n",
    "plot_histogram(res)"
   ]
  },
  {
   "cell_type": "code",
   "execution_count": null,
   "metadata": {},
   "outputs": [],
   "source": [
    "# Remarque on a nos 2 résultats attendus mais avec des erreurs quantique (bruits quantique).\n",
    "# "
   ]
  }
 ],
 "metadata": {
  "kernelspec": {
   "display_name": "Python 3",
   "language": "python",
   "name": "python3"
  },
  "language_info": {
   "codemirror_mode": {
    "name": "ipython",
    "version": 3
   },
   "file_extension": ".py",
   "mimetype": "text/x-python",
   "name": "python",
   "nbconvert_exporter": "python",
   "pygments_lexer": "ipython3",
   "version": "3.8.5"
  }
 },
 "nbformat": 4,
 "nbformat_minor": 4
}
